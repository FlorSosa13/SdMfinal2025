{
 "cells": [
  {
   "cell_type": "markdown",
   "id": "e145cc62",
   "metadata": {},
   "source": [
    "Como primer paso se debe de importar el sistema de matriculación desde el archivo \"SistemaMatriculaciones.py\", junto con las clases necesarias, como se muestra a continuación:"
   ]
  },
  {
   "cell_type": "code",
   "execution_count": 24,
   "id": "9f7e3268",
   "metadata": {},
   "outputs": [],
   "source": [
    "from SistemaMatriculaciones import UC, PlanEstudio, Estudiante, Secretaria, GestorExpediente"
   ]
  },
  {
   "cell_type": "markdown",
   "id": "7f41d5ab",
   "metadata": {},
   "source": [
    "A continuación, se carga el archivo PlanEstudio2021.json, que contiene la información necesaria para instanciar las unidades curriculares del plan de estudios"
   ]
  },
  {
   "cell_type": "code",
   "execution_count": 25,
   "id": "23556d62",
   "metadata": {},
   "outputs": [
    {
     "data": {
      "text/plain": [
       "{'Semestre 1': {'S1UC1': {'Nombre': 'Álgebra, Análisis y Geometría Analítica',\n",
       "   'Creditos': 8,\n",
       "   'Previas': []},\n",
       "  'S1UC2': {'Nombre': 'Mecánica, Ondas y Calor',\n",
       "   'Creditos': 10,\n",
       "   'Previas': []},\n",
       "  'S1UC3': {'Nombre': 'Química General e Inorgánica',\n",
       "   'Creditos': 9,\n",
       "   'Previas': []},\n",
       "  'S1UC4': {'Nombre': 'Taller Inicial de Tecnologías',\n",
       "   'Creditos': 8,\n",
       "   'Previas': []},\n",
       "  'S1UC5': {'Nombre': 'Salud y Sociedad', 'Creditos': 8, 'Previas': []},\n",
       "  'S1UC6': {'Nombre': 'Ingles 1', 'Creditos': 4, 'Previas': []}},\n",
       " 'Semestre 2': {'S2UC1': {'Nombre': 'Numeros Complejos y Ecuaciones Diferenciales',\n",
       "   'Creditos': 8,\n",
       "   'Previas': ['Álgebra, Análisis y Geometría Analítica']},\n",
       "  'S2UC2': {'Nombre': 'Electricidad y Magnetismo',\n",
       "   'Creditos': 10,\n",
       "   'Previas': ['Álgebra, Análisis y Geometría Analítica',\n",
       "    'Mecánica, Ondas y Calor']},\n",
       "  'S2UC3': {'Nombre': 'Química Orgánica y Biológica',\n",
       "   'Creditos': 9,\n",
       "   'Previas': ['Química Orgánica y Biológica']},\n",
       "  'S2UC4': {'Nombre': 'Anatomía y Fisiologías Humanas',\n",
       "   'Creditos': 10,\n",
       "   'Previas': ['Salud y Sociedad', 'Mecánica, Ondas y Calor']},\n",
       "  'S2UC5': {'Nombre': 'Ingles 2', 'Creditos': 4, 'Previas': []}},\n",
       " 'Semestre 3': {'S3UC1': {'Nombre': 'Óptica y Radiaciones',\n",
       "   'Creditos': 10,\n",
       "   'Previas': ['Álgebra, Análisis y Geometría Analítica',\n",
       "    'Mecánica, Ondas y Calor']},\n",
       "  'S3UC2': {'Nombre': 'Electrónica Analógica',\n",
       "   'Creditos': 10,\n",
       "   'Previas': ['Numeros Complejos y Ecuaciones Diferenciales',\n",
       "    'Electricidad y Magnetismo',\n",
       "    'Taller Inicial de Tecnologias']},\n",
       "  'S3UC3': {'Nombre': 'Electroctenia',\n",
       "   'Creditos': 9,\n",
       "   'Previas': ['Numeros Complejos y Ecuaciones Diferenciales',\n",
       "    'Electricidad y Magnetismo']},\n",
       "  'S3UC4': {'Nombre': 'Instalaciones Hospitalarias',\n",
       "   'Creditos': 9,\n",
       "   'Previas': ['Química Orgánica y Biológica',\n",
       "    'Anatomía y Fisiologías Humanas',\n",
       "    'Electricidad y Magnetismo']},\n",
       "  'S3UC5': {'Nombre': 'Programación de Computadoras',\n",
       "   'Creditos': 8,\n",
       "   'Previas': ['Álgebra, Análisis y Geometría Analítica']},\n",
       "  'S3UC6': {'Nombre': 'Ingles 3', 'Creditos': 4, 'Previas': []}},\n",
       " 'Semestre 4': {'S4UC1': {'Nombre': 'Electrofisiología Clínica',\n",
       "   'Creditos': 10,\n",
       "   'Previas': ['Anatomía y Fisiologías Humanas', 'Electrónica Analógica']},\n",
       "  'S4UC2': {'Nombre': 'Electrónica Digital',\n",
       "   'Creditos': 10,\n",
       "   'Previas': ['Electrónica Analógica']},\n",
       "  'S4UC3': {'Nombre': 'Mecánica, Maquinas y Materiales',\n",
       "   'Creditos': 9,\n",
       "   'Previas': ['Álgebra, Análisis y Geometría Analítica',\n",
       "    'Mecánica, Ondas y Calor']},\n",
       "  'S4UC4': {'Nombre': 'Imágenes Médicas',\n",
       "   'Creditos': 10,\n",
       "   'Previas': ['Anatomía y Fisiologías Humanas', 'Óptica y Radiaciones']},\n",
       "  'S4UC5': {'Nombre': 'Práctica Profesional Curricular A (PPC A)',\n",
       "   'Creditos': 12,\n",
       "   'Previas': []},\n",
       "  'S4UC6': {'Nombre': 'Ingles 4', 'Creditos': 4, 'Previas': []}},\n",
       " 'Semestre 5': {'S5UC1': {'Nombre': 'Seguridad Eléctrica y Radiante',\n",
       "   'Creditos': 10,\n",
       "   'Previas': ['Electroctenia',\n",
       "    'Instalaciones Hospitalarias',\n",
       "    'Electrofisiología Clínica',\n",
       "    'Imágenes Médicas']},\n",
       "  'S5UC2': {'Nombre': 'Normativa sobre Equipamientos Médicos',\n",
       "   'Creditos': 8,\n",
       "   'Previas': ['Electroctenia',\n",
       "    'Instalaciones Hospitalarias',\n",
       "    'Electrofisiología Clínica',\n",
       "    'Imágenes Médicas']},\n",
       "  'S5UC3': {'Nombre': 'Taller de Mantenimiento de Equipos Médicos',\n",
       "   'Creditos': 10,\n",
       "   'Previas': ['Electroctenia',\n",
       "    'Instalaciones Hospitalarias',\n",
       "    'Electrofisiología Clínica',\n",
       "    'Mecánica, Maquinas y Materiales',\n",
       "    'Imágenes Médicas']},\n",
       "  'S5UC4': {'Nombre': 'Matemática Avanzada I',\n",
       "   'Creditos': 9,\n",
       "   'Previas': ['Numeros Complejos y Ecuaciones Diferenciales',\n",
       "    'Programación de Computadoras']},\n",
       "  'S5UC5': {'Nombre': 'Ingles 5', 'Creditos': 4, 'Previas': []}},\n",
       " 'Semestre 6': {'S6UC1': {'Nombre': 'Instrumental de Laboratorio Clínico',\n",
       "   'Creditos': 9,\n",
       "   'Previas': ['Química Orgánica y Biológica', 'Instalaciones Hospitalarias']},\n",
       "  'S6UC2': {'Nombre': 'Informática Médica',\n",
       "   'Creditos': 8,\n",
       "   'Previas': ['Programación de Computadoras',\n",
       "    'Electrofisiología Clínica',\n",
       "    'Imágenes Médicas']},\n",
       "  'S6UC3': {'Nombre': 'Instrumentación Médica Complementaria',\n",
       "   'Creditos': 10,\n",
       "   'Previas': ['Electroctenia',\n",
       "    'Instalaciones Hospitalarias',\n",
       "    'Electrofisiología Clínica',\n",
       "    'Imágenes Médicas']},\n",
       "  'S6UC4': {'Nombre': 'Matemática Avanzada II',\n",
       "   'Creditos': 9,\n",
       "   'Previas': ['Matemática Avanzada I']},\n",
       "  'S6UC5': {'Nombre': 'Física Avanzada',\n",
       "   'Creditos': 8,\n",
       "   'Previas': ['Óptica y Radiaciones']},\n",
       "  'S6UC6': {'Nombre': 'Proyecto Final de Titulación (a nivel Tecnólogo)',\n",
       "   'Creditos': 8,\n",
       "   'Previas': []},\n",
       "  'S6UC7': {'Nombre': 'Ingles 6', 'Creditos': 4, 'Previas': []}},\n",
       " 'Semestre 7': {'S7UC1': {'Nombre': 'Fisiopatología',\n",
       "   'Creditos': 9,\n",
       "   'Previas': ['Instrumental de Laboratorio Clínico',\n",
       "    'Instrumentación Médica Complementaria']},\n",
       "  'S7UC2': {'Nombre': 'Radicaciones No-ionizantes',\n",
       "   'Creditos': 7,\n",
       "   'Previas': ['Matemática Avanzada 1', 'Física Avanzada']},\n",
       "  'S7UC3': {'Nombre': 'Programación Digital Avanzada',\n",
       "   'Creditos': 7,\n",
       "   'Previas': ['Instrumental de Laboratorio Clínico',\n",
       "    'Instrumentación Médica Complementaria']},\n",
       "  'S7UC4': {'Nombre': 'Legislación para la Salud',\n",
       "   'Creditos': 5,\n",
       "   'Previas': ['Normativa sobre Equipamiento Médico',\n",
       "    'Instrumental de Laboratorio Clínico',\n",
       "    'Informática Médica',\n",
       "    'Instrumentación Médica Complementaria']},\n",
       "  'S7UC5': {'Nombre': 'Economía para la Salud',\n",
       "   'Creditos': 5,\n",
       "   'Previas': ['Normativa sobre Equipamiento Médico',\n",
       "    'Instrumental de Laboratorio Clínico',\n",
       "    'Informática Médica',\n",
       "    'Instrumentación Médica Complementaria']},\n",
       "  'S7UC6': {'Nombre': 'Ingles 7', 'Creditos': 4, 'Previas': []}},\n",
       " 'Semestre 8': {'S8UC1': {'Nombre': 'Bioestadística',\n",
       "   'Creditos': 7,\n",
       "   'Previas': ['Informática Médica']},\n",
       "  'S8UC2': {'Nombre': 'Señales y Sistemas',\n",
       "   'Creditos': 8,\n",
       "   'Previas': ['Electrofisiología Clínica', 'Matemática Avanzada II']},\n",
       "  'S8UC3': {'Nombre': 'Biomecánica y Biomateriales',\n",
       "   'Creditos': 7,\n",
       "   'Previas': ['Anatomía y Fisiología Humanas',\n",
       "    'Mecánica, Máquinas y Materiales']},\n",
       "  'S8UC4': {'Nombre': 'Metodología de la Investigación',\n",
       "   'Creditos': 5,\n",
       "   'Previas': ['Física Avanzada', 'Fisiopatología']},\n",
       "  'S8UC5': {'Nombre': 'Higiene y Seguridad en Ambientes Hospitalarios',\n",
       "   'Creditos': 5,\n",
       "   'Previas': ['Fisiopatología', 'Legislación para la Salud']},\n",
       "  'S8UC6': {'Nombre': 'Ingles 8', 'Creditos': 4, 'Previas': []}},\n",
       " 'Semestre 9': {'S9UC1': {'Nombre': 'Radioterapia',\n",
       "   'Creditos': 7,\n",
       "   'Previas': ['Seguridad Eléctrica y Radiante',\n",
       "    'Física Avanzada',\n",
       "    'Fisiopatología']},\n",
       "  'S9UC2': {'Nombre': 'Gestión de Sistemas de Salud',\n",
       "   'Creditos': 9,\n",
       "   'Previas': ['Fisiopatología',\n",
       "    'Legislación para la Salud',\n",
       "    'Economía para la Salud',\n",
       "    'Bioestadística']},\n",
       "  'S9UC3': {'Nombre': 'Investigación Clínica y Bioética',\n",
       "   'Creditos': 7,\n",
       "   'Previas': ['Metodología de la Investigación',\n",
       "    'Higiene y Seguridad en Ambientes Hospitalarios']},\n",
       "  'S9UC4': {'Nombre': 'Electiva 1',\n",
       "   'Creditos': 4,\n",
       "   'Previas': ['Bioestadística',\n",
       "    'Señales y Sistemas',\n",
       "    'Biomecánica y Biomateriales',\n",
       "    'Metodología de la Investigación',\n",
       "    'Higiene y Seguridad en Ambientes Hospitalarios']},\n",
       "  'S9UC5': {'Nombre': 'Electiva 2',\n",
       "   'Creditos': 4,\n",
       "   'Previas': ['Bioestadística',\n",
       "    'Señales y Sistemas',\n",
       "    'Biomecánica y Biomateriales',\n",
       "    'Metodología de la Investigación',\n",
       "    'Higiene y Seguridad en Ambientes Hospitalarios']},\n",
       "  'S9UC6': {'Nombre': 'Práctica Profesional Curricular B',\n",
       "   'Creditos': 6,\n",
       "   'Previas': ['Bioestadística',\n",
       "    'Señales y Sistemas',\n",
       "    'Biomecánica y Biomateriales',\n",
       "    'Metodología de la Investigación',\n",
       "    'Higiene y Seguridad en Ambientes Hospitalarios']},\n",
       "  'S9UC7': {'Nombre': 'Ingles 9', 'Creditos': 4, 'Previas': []}},\n",
       " 'Semestre 10': {'S10UC1': {'Nombre': 'Telesalud y Telemedicina',\n",
       "   'Creditos': 8,\n",
       "   'Previas': ['Gestión de Sistemas de Salud']},\n",
       "  'S10UC2': {'Nombre': 'Electiva 3',\n",
       "   'Creditos': 4,\n",
       "   'Previas': ['Radioterapia',\n",
       "    'Gestión de Sistemas de Salud',\n",
       "    'Investigación Clínica y Bioética']},\n",
       "  'S10UC3': {'Nombre': 'Electiva 4',\n",
       "   'Creditos': 4,\n",
       "   'Previas': ['Radioterapia',\n",
       "    'Gestión de Sistemas de Salud',\n",
       "    'Investigación Clínica y Bioética']},\n",
       "  'S10UC4': {'Nombre': 'Proyecto Final de Titulacion (nivel Ingenieria - PFT T)',\n",
       "   'Creditos': 8,\n",
       "   'Previas': []},\n",
       "  'S10UC5': {'Nombre': 'Ingles 10', 'Creditos': 4, 'Previas': []}}}"
      ]
     },
     "execution_count": 25,
     "metadata": {},
     "output_type": "execute_result"
    }
   ],
   "source": [
    "planIBIO = PlanEstudio(\"PlanEstudio2021.json\")\n",
    "planIBIO.cargarPlanEstudio()"
   ]
  },
  {
   "cell_type": "markdown",
   "id": "991b8e8c",
   "metadata": {},
   "source": [
    "Se instancian una o más unidades curriculares, las cuales serán utilizadas para operar el Sistema de Matriculación"
   ]
  },
  {
   "cell_type": "code",
   "execution_count": 37,
   "id": "afd0728d",
   "metadata": {},
   "outputs": [
    {
     "name": "stdout",
     "output_type": "stream",
     "text": [
      "True\n",
      "Álgebra, Análisis y Geometría Analítica\n",
      "[]\n",
      "8\n"
     ]
    }
   ],
   "source": [
    "matematica = UC(planIBIO, \"Semestre 1\", \"S1UC1\", )\n",
    "print(matematica.infoUC())\n",
    "print(matematica.nombreMateria())\n",
    "print(matematica.nombrePrevias())\n",
    "print(matematica.getCreditos())"
   ]
  },
  {
   "cell_type": "code",
   "execution_count": 91,
   "id": "6f5454ce",
   "metadata": {},
   "outputs": [
    {
     "name": "stdout",
     "output_type": "stream",
     "text": [
      "True\n",
      "Taller Inicial de Tecnologías\n",
      "[]\n",
      "8\n"
     ]
    }
   ],
   "source": [
    "taller= UC(planIBIO,\"Semestre 1\",\"S1UC4\")\n",
    "print(taller.infoUC())\n",
    "print(taller.nombreMateria())\n",
    "print(taller.nombrePrevias())\n",
    "print(taller.getCreditos())"
   ]
  },
  {
   "cell_type": "code",
   "execution_count": 28,
   "id": "b8ca4ac1",
   "metadata": {},
   "outputs": [
    {
     "name": "stdout",
     "output_type": "stream",
     "text": [
      "True\n",
      "Mecánica, Ondas y Calor\n",
      "[]\n",
      "10\n"
     ]
    }
   ],
   "source": [
    "fisica = UC(planIBIO, \"Semestre 1\", \"S1UC2\")\n",
    "print(fisica.infoUC())\n",
    "print(fisica.nombreMateria())\n",
    "print(fisica.nombrePrevias())\n",
    "print(fisica.getCreditos())"
   ]
  },
  {
   "cell_type": "code",
   "execution_count": 29,
   "id": "b59292d3",
   "metadata": {},
   "outputs": [
    {
     "name": "stdout",
     "output_type": "stream",
     "text": [
      "True\n",
      "Numeros Complejos y Ecuaciones Diferenciales\n",
      "['Álgebra, Análisis y Geometría Analítica']\n",
      "8\n"
     ]
    }
   ],
   "source": [
    "matematica2 = UC(planIBIO, \"Semestre 2\", \"S2UC1\")\n",
    "print(matematica2.infoUC())\n",
    "print(matematica2.nombreMateria())\n",
    "print(matematica2.nombrePrevias())\n",
    "print(matematica2.getCreditos())"
   ]
  },
  {
   "cell_type": "code",
   "execution_count": 30,
   "id": "797573b4",
   "metadata": {},
   "outputs": [
    {
     "name": "stdout",
     "output_type": "stream",
     "text": [
      "True\n",
      "Óptica y Radiaciones\n",
      "['Álgebra, Análisis y Geometría Analítica', 'Mecánica, Ondas y Calor']\n",
      "10\n"
     ]
    }
   ],
   "source": [
    "optica = UC(planIBIO, \"Semestre 3\", \"S3UC1\")\n",
    "print(optica.infoUC())\n",
    "print(optica.nombreMateria())\n",
    "print(optica.nombrePrevias())\n",
    "print(optica.getCreditos())"
   ]
  },
  {
   "cell_type": "markdown",
   "id": "45fea22b",
   "metadata": {},
   "source": [
    "Se crea un objeto con los datos personales y académicos iniciales del estudiante, lo que genera un archivo JSON que representa su expediente académico vacío. Además, se crea el archivo Registros.json, encargado de almacenar todas las matrículas e inscripciones a exámenes registradas en el sistema."
   ]
  },
  {
   "cell_type": "code",
   "execution_count": 38,
   "id": "4f0fc76d",
   "metadata": {},
   "outputs": [],
   "source": [
    "expediente = GestorExpediente(\"Agustín Acosta\", 56692489, 2022)\n",
    "expediente.crearArchivo()\n",
    "expediente.crear_registros()"
   ]
  },
  {
   "cell_type": "markdown",
   "id": "274cf1ca",
   "metadata": {},
   "source": [
    "Se instancia un objeto de la clase Estudiante a partir del expediente previamente creado, lo que permite acceder y manipular la información académica del estudiante a través de una interfaz específica. Se imprime para ver su estado inicial"
   ]
  },
  {
   "cell_type": "code",
   "execution_count": 50,
   "id": "51162830",
   "metadata": {},
   "outputs": [
    {
     "name": "stdout",
     "output_type": "stream",
     "text": [
      "Información del estudiante:\n",
      "Nombre: Agustín Acosta\n",
      "C.I: 56692489\n",
      "Materias aprobadas: []\n",
      "Materias Matriculadas: []\n",
      "Inscripcion Examenes: []\n",
      "Créditos: 0\n"
     ]
    }
   ],
   "source": [
    "agustin = Estudiante(expediente)\n",
    "print(agustin)"
   ]
  },
  {
   "cell_type": "markdown",
   "id": "7d2bf1cf",
   "metadata": {},
   "source": [
    "**Interacción con el Sistema de Matriculación desde la perspectiva del estudiante.**"
   ]
  },
  {
   "cell_type": "markdown",
   "id": "14e7f745",
   "metadata": {},
   "source": [
    "Se matricula al estudiante en una unidad curricular específica mediante el método matricular_uc, siempre que cumpla con los requisitos previos definidos en el plan de estudios y se imprime por pantalla la información académica actual del estudiante"
   ]
  },
  {
   "cell_type": "code",
   "execution_count": 44,
   "id": "f85cff69",
   "metadata": {},
   "outputs": [
    {
     "name": "stdout",
     "output_type": "stream",
     "text": [
      "Información del estudiante:\n",
      "Nombre: Agustín Acosta\n",
      "C.I: 56692489\n",
      "Materias aprobadas: []\n",
      "Materias Matriculadas: ['Álgebra, Análisis y Geometría Analítica']\n",
      "Inscripcion Examenes: []\n",
      "Créditos: 0\n"
     ]
    }
   ],
   "source": [
    "agustin.matricular_uc(matematica)\n",
    "agustin=Estudiante(expediente)\n",
    "print(agustin)"
   ]
  },
  {
   "cell_type": "markdown",
   "id": "e39c57c5",
   "metadata": {},
   "source": [
    "Se desmatricula al estudiante de la unidad curricular especificada mediante el método desmatricular_uc, lo que actualiza tanto su expediente académico como el registro global del sistema. Luego, se imprime su información para verificar que la desmatriculación se haya realizado correctamente."
   ]
  },
  {
   "cell_type": "code",
   "execution_count": 51,
   "id": "d858761e",
   "metadata": {},
   "outputs": [
    {
     "name": "stdout",
     "output_type": "stream",
     "text": [
      "Información del estudiante:\n",
      "Nombre: Agustín Acosta\n",
      "C.I: 56692489\n",
      "Materias aprobadas: []\n",
      "Materias Matriculadas: []\n",
      "Inscripcion Examenes: []\n",
      "Créditos: 0\n"
     ]
    }
   ],
   "source": [
    "agustin.desmatricular_uc(matematica)\n",
    "agustin=Estudiante(expediente)\n",
    "print(agustin)"
   ]
  },
  {
   "cell_type": "markdown",
   "id": "208190c9",
   "metadata": {},
   "source": [
    "Se inscribe al estudiante en el examen de una unidad curricular determinada, siempre que cumpla con los requisitos previos. Finalmente, se imprime la información académica"
   ]
  },
  {
   "cell_type": "code",
   "execution_count": 53,
   "id": "87cc7db6",
   "metadata": {},
   "outputs": [
    {
     "name": "stdout",
     "output_type": "stream",
     "text": [
      "Información del estudiante:\n",
      "Nombre: Agustín Acosta\n",
      "C.I: 56692489\n",
      "Materias aprobadas: []\n",
      "Materias Matriculadas: []\n",
      "Inscripcion Examenes: ['Álgebra, Análisis y Geometría Analítica']\n",
      "Créditos: 0\n"
     ]
    }
   ],
   "source": [
    "agustin.inscribir_examen(matematica)\n",
    "agustin=Estudiante(expediente)\n",
    "print(agustin)"
   ]
  },
  {
   "cell_type": "markdown",
   "id": "31f92b66",
   "metadata": {},
   "source": [
    "Se elimina su inscripción al examen de la unidad curricular especificada mediante el método quitar_examen. Luego, se imprime su información académica para verificar que la acción se haya completado correctamente"
   ]
  },
  {
   "cell_type": "code",
   "execution_count": 54,
   "id": "d5935b7e",
   "metadata": {},
   "outputs": [
    {
     "name": "stdout",
     "output_type": "stream",
     "text": [
      "Información del estudiante:\n",
      "Nombre: Agustín Acosta\n",
      "C.I: 56692489\n",
      "Materias aprobadas: []\n",
      "Materias Matriculadas: []\n",
      "Inscripcion Examenes: []\n",
      "Créditos: 0\n"
     ]
    }
   ],
   "source": [
    "agustin.quitar_examen(matematica)\n",
    "agustin=Estudiante(expediente)\n",
    "print(agustin)"
   ]
  },
  {
   "cell_type": "markdown",
   "id": "354e21c3",
   "metadata": {},
   "source": [
    "Si el estudiante intenta matricularse o inscribirse a un examen de una unidad curricular sin haber aprobado las materias previas requeridas, el sistema no registrará la inscripción y, por lo tanto, la unidad curricular no se reflejará en su archivo JSON."
   ]
  },
  {
   "cell_type": "code",
   "execution_count": 71,
   "id": "0932c8c8",
   "metadata": {},
   "outputs": [
    {
     "name": "stdout",
     "output_type": "stream",
     "text": [
      "Información del estudiante:\n",
      "Nombre: Agustín Acosta\n",
      "C.I: 56692489\n",
      "Materias aprobadas: []\n",
      "Materias Matriculadas: ['Mecánica, Ondas y Calor']\n",
      "Inscripcion Examenes: []\n",
      "Créditos: 0\n"
     ]
    }
   ],
   "source": [
    "agustin.matricular_uc(optica)\n",
    "agustin=Estudiante(expediente)\n",
    "print(agustin)"
   ]
  },
  {
   "cell_type": "code",
   "execution_count": 70,
   "id": "d3e7dca0",
   "metadata": {},
   "outputs": [
    {
     "name": "stdout",
     "output_type": "stream",
     "text": [
      "Información del estudiante:\n",
      "Nombre: Agustín Acosta\n",
      "C.I: 56692489\n",
      "Materias aprobadas: []\n",
      "Materias Matriculadas: ['Mecánica, Ondas y Calor']\n",
      "Inscripcion Examenes: []\n",
      "Créditos: 0\n"
     ]
    }
   ],
   "source": [
    "agustin.inscribir_examen(optica)\n",
    "agustin=Estudiante(expediente)\n",
    "print(agustin)"
   ]
  },
  {
   "cell_type": "markdown",
   "id": "77daf45e",
   "metadata": {},
   "source": [
    "**Interacción con el Sistema de Matriculación desde la perspectiva de la Secretaria**"
   ]
  },
  {
   "cell_type": "markdown",
   "id": "b90791d0",
   "metadata": {},
   "source": [
    "Se instancia un objeto de la clase Secretaria con el nombre \"Jessica\", lo que permite simular acciones administrativas sobre los expedientes académicos de los estudiantes, tales como inscripciones, matrículas y gestión de unidades curriculares aprobadas."
   ]
  },
  {
   "cell_type": "code",
   "execution_count": 58,
   "id": "709bb16f",
   "metadata": {},
   "outputs": [],
   "source": [
    "jessica = Secretaria(\"Jessica\")"
   ]
  },
  {
   "cell_type": "markdown",
   "id": "41ac54c2",
   "metadata": {},
   "source": [
    "Se carga el expediente académico del estudiante en el objeto Secretaria mediante el método cargar_estudiante, lo que le permite a la secretaria realizar operaciones administrativas sobre dicho expediente, como matriculación, inscripción a exámenes o gestión de materias aprobadas"
   ]
  },
  {
   "cell_type": "code",
   "execution_count": 59,
   "id": "58c6fa8b",
   "metadata": {},
   "outputs": [],
   "source": [
    "jessica.cargar_estudiante(expediente)"
   ]
  },
  {
   "cell_type": "markdown",
   "id": "8b8961ad",
   "metadata": {},
   "source": [
    "Matricula al estudiante en la unidad curricular \"Física\" utilizando el método matricular_uc, verificando que se cumplan los requisitos académicos establecidos en el plan de estudios antes de registrar la inscripción en el expediente y en el archivo de registros"
   ]
  },
  {
   "cell_type": "code",
   "execution_count": 121,
   "id": "735f1d61",
   "metadata": {},
   "outputs": [
    {
     "name": "stdout",
     "output_type": "stream",
     "text": [
      "Información del estudiante:\n",
      "Nombre: Agustín Acosta\n",
      "C.I: 56692489\n",
      "Materias aprobadas: []\n",
      "Materias Matriculadas: ['Mecánica, Ondas y Calor']\n",
      "Inscripcion Examenes: []\n",
      "Créditos: 0\n"
     ]
    }
   ],
   "source": [
    "jessica.matricular_uc(fisica)\n",
    "estudiante = Estudiante(jessica.expediente)\n",
    "print(estudiante)"
   ]
  },
  {
   "cell_type": "markdown",
   "id": "35555679",
   "metadata": {},
   "source": [
    "Desmatricula al estudiante de la unidad curricular \"Física\" mediante el método desmatricular_uc, lo que actualiza tanto el expediente académico como el archivo de registros"
   ]
  },
  {
   "cell_type": "code",
   "execution_count": 122,
   "id": "66ba9655",
   "metadata": {},
   "outputs": [
    {
     "name": "stdout",
     "output_type": "stream",
     "text": [
      "Información del estudiante:\n",
      "Nombre: Agustín Acosta\n",
      "C.I: 56692489\n",
      "Materias aprobadas: []\n",
      "Materias Matriculadas: []\n",
      "Inscripcion Examenes: []\n",
      "Créditos: 0\n"
     ]
    }
   ],
   "source": [
    "jessica.desmatricular_uc(fisica)\n",
    "estudiante=Estudiante(jessica.expediente)\n",
    "print(estudiante)"
   ]
  },
  {
   "cell_type": "markdown",
   "id": "f319957c",
   "metadata": {},
   "source": [
    "Inscribe al estudiante al examen de la unidad curricular \"Física\" utilizando el método inscribir_examen. Esta acción se registra en su expediente académico y en el archivo de registro seccion exámenes, siempre que se cumplan las materias previas."
   ]
  },
  {
   "cell_type": "code",
   "execution_count": 123,
   "id": "5fd44356",
   "metadata": {},
   "outputs": [
    {
     "name": "stdout",
     "output_type": "stream",
     "text": [
      "Información del estudiante:\n",
      "Nombre: Agustín Acosta\n",
      "C.I: 56692489\n",
      "Materias aprobadas: []\n",
      "Materias Matriculadas: []\n",
      "Inscripcion Examenes: ['Mecánica, Ondas y Calor']\n",
      "Créditos: 0\n"
     ]
    }
   ],
   "source": [
    "jessica.inscribir_examen(fisica)\n",
    "estudiante=Estudiante(jessica.expediente)\n",
    "print(estudiante)"
   ]
  },
  {
   "cell_type": "markdown",
   "id": "542bd04d",
   "metadata": {},
   "source": [
    "Elimina la inscripción del estudiante al examen de la unidad curricular \"Física\" mediante el método quitar_examen. Esta acción actualiza tanto el expediente académico del estudiante como el archivo de registros."
   ]
  },
  {
   "cell_type": "code",
   "execution_count": null,
   "id": "b74ac195",
   "metadata": {},
   "outputs": [
    {
     "name": "stdout",
     "output_type": "stream",
     "text": [
      "Información del estudiante:\n",
      "Nombre: Agustín Acosta\n",
      "C.I: 56692489\n",
      "Materias aprobadas: []\n",
      "Materias Matriculadas: []\n",
      "Inscripcion Examenes: []\n",
      "Créditos: 0\n"
     ]
    }
   ],
   "source": [
    "jessica.quitar_examen(fisica)\n",
    "estudiante=Estudiante(jessica.expediente)\n",
    "print(estudiante)"
   ]
  },
  {
   "cell_type": "markdown",
   "id": "b4291ecb",
   "metadata": {},
   "source": [
    "Agrega la unidad curricular \"Matemática\" como materia aprobada en el expediente del estudiante mediante el método agregar_uc_aprobada. Esta acción actualiza la lista de materias aprobadas y suma los créditos correspondientes en el archivo JSON del estudiante."
   ]
  },
  {
   "cell_type": "code",
   "execution_count": 76,
   "id": "cf343516",
   "metadata": {},
   "outputs": [
    {
     "name": "stdout",
     "output_type": "stream",
     "text": [
      "Información del estudiante:\n",
      "Nombre: Agustín Acosta\n",
      "C.I: 56692489\n",
      "Materias aprobadas: ['Álgebra, Análisis y Geometría Analítica']\n",
      "Materias Matriculadas: []\n",
      "Inscripcion Examenes: []\n",
      "Créditos: 8\n"
     ]
    }
   ],
   "source": [
    "jessica.agregar_uc_aprobada(matematica)\n",
    "estudiante=Estudiante(jessica.expediente)\n",
    "print(estudiante)"
   ]
  },
  {
   "cell_type": "markdown",
   "id": "d4ba63b6",
   "metadata": {},
   "source": [
    "Elimina la unidad curricular \"Matemática\" de la lista de materias aprobadas del estudiante mediante el método quitar_uc_aprobada. Esta acción actualiza el expediente académico, removiendo la materia y descontando los créditos correspondientes en el archivo JSON del estudiante."
   ]
  },
  {
   "cell_type": "code",
   "execution_count": null,
   "id": "d64db3ee",
   "metadata": {},
   "outputs": [
    {
     "name": "stdout",
     "output_type": "stream",
     "text": [
      "Información del estudiante:\n",
      "Nombre: Agustín Acosta\n",
      "C.I: 56692489\n",
      "Materias aprobadas: []\n",
      "Materias Matriculadas: ['Óptica y Radiaciones']\n",
      "Inscripcion Examenes: ['Óptica y Radiaciones']\n",
      "Créditos: 0\n"
     ]
    }
   ],
   "source": [
    "jessica.quitar_uc_aprobada(matematica)\n",
    "estudiante=Estudiante(jessica.expediente)\n",
    "print(estudiante)"
   ]
  },
  {
   "cell_type": "markdown",
   "id": "80d3212c",
   "metadata": {},
   "source": [
    "La secretaria consulta los registros del sistema utilizando los métodos ver_inscriptos_examen y ver_inscriptos_matriculas, los cuales devuelven diccionarios que asocian cada unidad curricular con la lista de estudiantes inscriptos a exámenes o matriculados, respectivamente.\n",
    "Actualmente, el sistema cuenta con un solo estudiante, pero está diseñado para manejar múltiples registros. Si dos estudiantes se inscriben o se matriculan en la misma unidad curricular, el sistema mostrará una única entrada con el nombre de la UC y una lista que incluye los nombres de ambos estudiantes. En cambio, si cada estudiante se registra en unidades diferentes, cada unidad aparecerá por separado con los nombres correspondientes. Esta lógica de agrupamiento se aplica tanto a las inscripciones a exámenes como a las matrículas."
   ]
  },
  {
   "cell_type": "code",
   "execution_count": 151,
   "id": "34906f06",
   "metadata": {},
   "outputs": [],
   "source": [
    "expediente1 = GestorExpediente(\"Florencia Sosa\", 52286195, 2020)\n",
    "expediente1.crearArchivo()\n",
    "expediente1.crear_registros()\n"
   ]
  },
  {
   "cell_type": "code",
   "execution_count": 152,
   "id": "fbe8c869",
   "metadata": {},
   "outputs": [],
   "source": [
    "florencia = Estudiante(expediente1)"
   ]
  },
  {
   "cell_type": "code",
   "execution_count": 166,
   "id": "69584b3f",
   "metadata": {},
   "outputs": [
    {
     "data": {
      "text/plain": [
       "True"
      ]
     },
     "execution_count": 166,
     "metadata": {},
     "output_type": "execute_result"
    }
   ],
   "source": [
    "florencia.inscribir_examen(matematica)\n",
    "florencia.inscribir_examen(taller)"
   ]
  },
  {
   "cell_type": "code",
   "execution_count": 170,
   "id": "3a72104c",
   "metadata": {},
   "outputs": [
    {
     "data": {
      "text/plain": [
       "{'Álgebra, Análisis y Geometría Analítica': ['Florencia Sosa'],\n",
       " 'Taller Inicial de Tecnologías': ['Florencia Sosa']}"
      ]
     },
     "execution_count": 170,
     "metadata": {},
     "output_type": "execute_result"
    }
   ],
   "source": [
    "jessica.ver_inscriptos_examen()"
   ]
  },
  {
   "cell_type": "code",
   "execution_count": 172,
   "id": "d40e2854",
   "metadata": {},
   "outputs": [
    {
     "data": {
      "text/plain": [
       "True"
      ]
     },
     "execution_count": 172,
     "metadata": {},
     "output_type": "execute_result"
    }
   ],
   "source": [
    "florencia.matricular_uc(taller)\n",
    "agustin.matricular_uc(taller)\n",
    "florencia.matricular_uc(matematica)"
   ]
  },
  {
   "cell_type": "code",
   "execution_count": 173,
   "id": "8e036f84",
   "metadata": {},
   "outputs": [
    {
     "data": {
      "text/plain": [
       "{'Taller Inicial de Tecnologías': ['Florencia Sosa', 'Agustín Acosta'],\n",
       " 'Álgebra, Análisis y Geometría Analítica': ['Florencia Sosa']}"
      ]
     },
     "execution_count": 173,
     "metadata": {},
     "output_type": "execute_result"
    }
   ],
   "source": [
    "jessica.ver_inscriptos_matriculas()"
   ]
  },
  {
   "cell_type": "markdown",
   "id": "4fed9575",
   "metadata": {},
   "source": [
    "Dado que el sistema valida automáticamente los requisitos previos, ni el estudiante ni la secretaria pueden matricular o inscribir al estudiante en una unidad curricular si no se han aprobado las materias previas correspondientes. Sin embargo, una vez que el estudiante cumple con dichas previas, ya sea por aprobación directa o mediante la intervención de la secretaria, podrá ser matriculado o inscripto a examen sin restricciones."
   ]
  },
  {
   "cell_type": "code",
   "execution_count": 125,
   "id": "4a685323",
   "metadata": {},
   "outputs": [
    {
     "name": "stdout",
     "output_type": "stream",
     "text": [
      "Información del estudiante:\n",
      "Nombre: Agustín Acosta\n",
      "C.I: 56692489\n",
      "Materias aprobadas: []\n",
      "Materias Matriculadas: []\n",
      "Inscripcion Examenes: []\n",
      "Créditos: 0\n"
     ]
    }
   ],
   "source": [
    "jessica.matricular_uc(optica)\n",
    "estudiante=Estudiante(jessica.expediente)\n",
    "print(estudiante)"
   ]
  },
  {
   "cell_type": "code",
   "execution_count": 126,
   "id": "77422392",
   "metadata": {},
   "outputs": [
    {
     "name": "stdout",
     "output_type": "stream",
     "text": [
      "Información del estudiante:\n",
      "Nombre: Agustín Acosta\n",
      "C.I: 56692489\n",
      "Materias aprobadas: ['Álgebra, Análisis y Geometría Analítica', 'Mecánica, Ondas y Calor']\n",
      "Materias Matriculadas: []\n",
      "Inscripcion Examenes: []\n",
      "Créditos: 18\n"
     ]
    }
   ],
   "source": [
    "jessica.agregar_uc_aprobada(matematica)\n",
    "jessica.agregar_uc_aprobada(fisica)\n",
    "estudiante=Estudiante(jessica.expediente)\n",
    "print(estudiante)"
   ]
  },
  {
   "cell_type": "code",
   "execution_count": 127,
   "id": "8bba74fb",
   "metadata": {},
   "outputs": [
    {
     "name": "stdout",
     "output_type": "stream",
     "text": [
      "Información del estudiante:\n",
      "Nombre: Agustín Acosta\n",
      "C.I: 56692489\n",
      "Materias aprobadas: ['Álgebra, Análisis y Geometría Analítica', 'Mecánica, Ondas y Calor']\n",
      "Materias Matriculadas: ['Óptica y Radiaciones']\n",
      "Inscripcion Examenes: []\n",
      "Créditos: 18\n"
     ]
    }
   ],
   "source": [
    "jessica.matricular_uc(optica)\n",
    "estudiante=Estudiante(jessica.expediente)\n",
    "print(estudiante)"
   ]
  },
  {
   "cell_type": "code",
   "execution_count": 128,
   "id": "11fb20ea",
   "metadata": {},
   "outputs": [
    {
     "name": "stdout",
     "output_type": "stream",
     "text": [
      "Información del estudiante:\n",
      "Nombre: Agustín Acosta\n",
      "C.I: 56692489\n",
      "Materias aprobadas: ['Álgebra, Análisis y Geometría Analítica', 'Mecánica, Ondas y Calor']\n",
      "Materias Matriculadas: ['Óptica y Radiaciones']\n",
      "Inscripcion Examenes: ['Óptica y Radiaciones']\n",
      "Créditos: 18\n"
     ]
    }
   ],
   "source": [
    "jessica.inscribir_examen(optica)\n",
    "estudiante=Estudiante(jessica.expediente)\n",
    "print(estudiante)"
   ]
  }
 ],
 "metadata": {
  "kernelspec": {
   "display_name": "Python 3",
   "language": "python",
   "name": "python3"
  },
  "language_info": {
   "codemirror_mode": {
    "name": "ipython",
    "version": 3
   },
   "file_extension": ".py",
   "mimetype": "text/x-python",
   "name": "python",
   "nbconvert_exporter": "python",
   "pygments_lexer": "ipython3",
   "version": "3.13.2"
  }
 },
 "nbformat": 4,
 "nbformat_minor": 5
}
